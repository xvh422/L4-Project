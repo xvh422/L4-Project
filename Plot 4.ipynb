{
  "nbformat": 4,
  "nbformat_minor": 0,
  "metadata": {
    "colab": {
      "provenance": [],
      "authorship_tag": "ABX9TyMpAvMulKYMrv/T8DSpg5Ry",
      "include_colab_link": true
    },
    "kernelspec": {
      "name": "python3",
      "display_name": "Python 3"
    },
    "language_info": {
      "name": "python"
    }
  },
  "cells": [
    {
      "cell_type": "markdown",
      "metadata": {
        "id": "view-in-github",
        "colab_type": "text"
      },
      "source": [
        "<a href=\"https://colab.research.google.com/github/xvh422/L4-Project/blob/main/Plot%204.ipynb\" target=\"_parent\"><img src=\"https://colab.research.google.com/assets/colab-badge.svg\" alt=\"Open In Colab\"/></a>"
      ]
    },
    {
      "cell_type": "code",
      "execution_count": 1,
      "metadata": {
        "colab": {
          "base_uri": "https://localhost:8080/"
        },
        "id": "ctUxSLwPh3VN",
        "outputId": "798987b3-af8a-4cfd-e8d6-c4f939ac6dcc"
      },
      "outputs": [
        {
          "output_type": "stream",
          "name": "stdout",
          "text": [
            "Looking in indexes: https://pypi.org/simple, https://us-python.pkg.dev/colab-wheels/public/simple/\n",
            "Collecting eagleSqlTools\n",
            "  Downloading eagleSqlTools-2.0.0-py3-none-any.whl (16 kB)\n",
            "Requirement already satisfied: numpy in /usr/local/lib/python3.7/dist-packages (from eagleSqlTools) (1.21.6)\n",
            "Installing collected packages: eagleSqlTools\n",
            "Successfully installed eagleSqlTools-2.0.0\n"
          ]
        }
      ],
      "source": [
        "!pip install eagleSqlTools"
      ]
    },
    {
      "cell_type": "code",
      "execution_count": 2,
      "metadata": {
        "id": "25348785"
      },
      "outputs": [],
      "source": [
        "import eagleSqlTools as sql\n",
        "import numpy as np\n",
        "import matplotlib.pyplot as plt\n",
        "import matplotlib.colors as col\n",
        "from mpl_toolkits.axes_grid1 import make_axes_locatable\n",
        "from matplotlib import gridspec\n",
        "\n",
        "con = sql.connect(\"vwg533\", password = \"FZtn087h\")"
      ]
    },
    {
      "cell_type": "code",
      "execution_count": 3,
      "metadata": {
        "id": "HqlOlo01AjdC"
      },
      "outputs": [],
      "source": [
        "sim_name = 'RefL0100N1504'\n",
        "sim_size = 100.\n",
        "zs = []\n",
        "halos = []\n",
        "bhs = []\n",
        "sfrs = []\n",
        "\n",
        "# For snapnums 28, 26, 23, 19, 14 ==> z = 0.0, 2.29, 5.19, 7.93, 10.86\n",
        "galaxy_ids = [21573586, 21379523, 21730540, 13259036, 21109774]\n",
        "\n",
        "\n",
        "for i in range(len(galaxy_ids)):\n",
        "  Query = \"SELECT \\\n",
        "              gal.Redshift as z, \\\n",
        "              gal.MassType_DM as halo, \\\n",
        "              gal.MassType_BH as bh, \\\n",
        "              gal.StarFormationRate as sfr \\\n",
        "            FROM \\\n",
        "              %s_Subhalo as gal, \\\n",
        "              %s_Subhalo as ref \\\n",
        "            WHERE \\\n",
        "              ref.GalaxyID=%s and \\\n",
        "              ((gal.SnapNum > ref.SnapNum and ref.GalaxyID \\\n",
        "              between gal.GalaxyID and gal.TopLeafID) or \\\n",
        "              (gal.SnapNum <= ref.SnapNum and gal.GalaxyID \\\n",
        "              between ref.GalaxyID and ref.TopLeafID)) \\\n",
        "            ORDER BY \\\n",
        "              gal.Redshift\"%(sim_name, sim_name, galaxy_ids[i])\n",
        "\n",
        "  Data = sql.execute_query(con, Query)\n",
        "  zs.append(Data['z'])\n",
        "  halos.append(Data['halo'])\n",
        "  bhs.append(Data['bh'])\n",
        "  sfrs.append(Data['sfr'])"
      ]
    },
    {
      "cell_type": "code",
      "execution_count": 5,
      "metadata": {
        "id": "EcvB5J6tLYLD"
      },
      "outputs": [],
      "source": [
        "def log_with_zeros(data): # Replaces zeroes with the smallest nonzero value.\n",
        "  logs = np.empty(len(data))\n",
        "  for i in range(0, len(data)):\n",
        "    if data[i] == 0.0:\n",
        "      logs[i] = 99.\n",
        "    else:\n",
        "      logs[i] = np.log10(data[i])\n",
        "  m = logs.min()\n",
        "  for j in range(0, len(logs)):\n",
        "    if logs[j] == 99.:\n",
        "      logs[j] = m\n",
        "    else:\n",
        "      logs[j] = logs[j]\n",
        "  return logs\n",
        "\n",
        "def divide_with_zeros(n, d):\n",
        "  res = np.empty(len(n))\n",
        "  for i in range(len(n)):\n",
        "    if d[i] == 0:\n",
        "      res[i] = 0\n",
        "    else:\n",
        "      res[i] = n[i]/d[i]\n",
        "  return res\n",
        "\n",
        "def remove_zeros(data):\n",
        "  out = []\n",
        "  for i in range(len(data)):\n",
        "    if data[i] == 0:\n",
        "      out = out\n",
        "    else:\n",
        "      out = out + [data[i]]\n",
        "  return np.array(out)"
      ]
    },
    {
      "cell_type": "code",
      "execution_count": 6,
      "metadata": {
        "id": "GtM5NwRGVWQc"
      },
      "outputs": [],
      "source": [
        "Times = np.array([13.62, 13.53, 13.32, 13.25, 13.16, 13.04, 12.86, 12.75, 12.63, 12.46, 12.25, 12.01, 11.66, 11.16,\n",
        "                  10.86, 10.53, 10.05, 9.49, 8.86, 7.93, 7.37, 6.71, 6.01, 5.19, 4.16, 3.23, 2.29, 1.24, 0.0]) # len = 29"
      ]
    },
    {
      "cell_type": "code",
      "source": [
        "plt.figure()\n",
        "\n",
        "for i in range(len(bhs)):\n",
        "  d = 29 - len(bhs[i])\n",
        "  plt.plot(Times[0:-d], log_with_zeros(bhs[i]), label = i)\n",
        "\n",
        "plt.legend()\n",
        "plt.show()"
      ],
      "metadata": {
        "id": "keoyk-vRX8Rn",
        "outputId": "5eabf368-ffbd-442c-9a7f-0c88618a593c",
        "colab": {
          "base_uri": "https://localhost:8080/",
          "height": 265
        }
      },
      "execution_count": 13,
      "outputs": [
        {
          "output_type": "display_data",
          "data": {
            "text/plain": [
              "<Figure size 432x288 with 1 Axes>"
            ],
            "image/png": "[encoded data removed]"
          },
          "metadata": {
            "needs_background": "light"
          }
        }
      ]
    },
    {
      "cell_type": "code",
      "source": [
        "Start_times = np.array([10.53, 5.19, 8.86, 10.05, 6.01])"
      ],
      "metadata": {
        "id": "8C90QI_M_Oji"
      },
      "execution_count": 15,
      "outputs": []
    },
    {
      "cell_type": "code",
      "source": [
        "Corrected = []\n",
        "\n",
        "for i in range(len(Start_times)):\n",
        "  c = Times - Start_times[i]\n",
        "  Corrected.append(c)"
      ],
      "metadata": {
        "id": "uYRsM4opAkZn"
      },
      "execution_count": 21,
      "outputs": []
    },
    {
      "cell_type": "code",
      "source": [],
      "metadata": {
        "id": "e1Sk03q5B6A0"
      },
      "execution_count": null,
      "outputs": []
    }
  ]
}