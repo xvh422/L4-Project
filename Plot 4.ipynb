{
  "nbformat": 4,
  "nbformat_minor": 0,
  "metadata": {
    "colab": {
      "provenance": [],
      "authorship_tag": "ABX9TyNxnIq5ZP1ydZxtm2fUvAVI",
      "include_colab_link": true
    },
    "kernelspec": {
      "name": "python3",
      "display_name": "Python 3"
    },
    "language_info": {
      "name": "python"
    }
  },
  "cells": [
    {
      "cell_type": "markdown",
      "metadata": {
        "id": "view-in-github",
        "colab_type": "text"
      },
      "source": [
        "<a href=\"https://colab.research.google.com/github/xvh422/L4-Project/blob/main/Plot%204.ipynb\" target=\"_parent\"><img src=\"https://colab.research.google.com/assets/colab-badge.svg\" alt=\"Open In Colab\"/></a>"
      ]
    },
    {
      "cell_type": "code",
      "execution_count": 1,
      "metadata": {
        "colab": {
          "base_uri": "https://localhost:8080/"
        },
        "id": "ctUxSLwPh3VN",
        "outputId": "8ec3f6a0-eccb-41ef-ef23-7ef4b2186bbf"
      },
      "outputs": [
        {
          "output_type": "stream",
          "name": "stdout",
          "text": [
            "Looking in indexes: https://pypi.org/simple, https://us-python.pkg.dev/colab-wheels/public/simple/\n",
            "Collecting eagleSqlTools\n",
            "  Downloading eagleSqlTools-2.0.0-py3-none-any.whl (16 kB)\n",
            "Requirement already satisfied: numpy in /usr/local/lib/python3.7/dist-packages (from eagleSqlTools) (1.21.6)\n",
            "Installing collected packages: eagleSqlTools\n",
            "Successfully installed eagleSqlTools-2.0.0\n"
          ]
        }
      ],
      "source": [
        "!pip install eagleSqlTools"
      ]
    },
    {
      "cell_type": "code",
      "execution_count": 2,
      "metadata": {
        "id": "25348785"
      },
      "outputs": [],
      "source": [
        "import eagleSqlTools as sql\n",
        "import numpy as np\n",
        "import matplotlib.pyplot as plt\n",
        "import matplotlib.colors as col\n",
        "from mpl_toolkits.axes_grid1 import make_axes_locatable\n",
        "from matplotlib import gridspec\n",
        "\n",
        "con = sql.connect(\"vwg533\", password = \"FZtn087h\")"
      ]
    },
    {
      "cell_type": "code",
      "execution_count": 31,
      "metadata": {
        "id": "DRyCTkC4bjij"
      },
      "outputs": [],
      "source": [
        "sim_name = 'RefL0100N1504'\n",
        "sim_size = 100.\n",
        "\n",
        "Query_IDs = \"SELECT \\\n",
        "              SH.GalaxyID as id \\\n",
        "            FROM \\\n",
        "              %s_SubHalo as SH, \\\n",
        "              %s_Aperture as AP \\\n",
        "            WHERE \\\n",
        "              SH.SnapNum = 28 and \\\n",
        "              SH.SubGroupNumber = 0 and \\\n",
        "              AP.Mass_Star > 1.0e9 and \\\n",
        "              SH.MassType_BH > 1.0e9 and \\\n",
        "              (AP.SFR/AP.Mass_Star) < 5.0e-12 and \\\n",
        "              AP.ApertureSize = 30 and \\\n",
        "              SH.GalaxyID = AP.GalaxyID\"%(sim_name, sim_name)\n",
        "\n",
        "Data_IDs = sql.execute_query(con, Query_IDs)"
      ]
    },
    {
      "cell_type": "code",
      "source": [
        "print(len(Data_IDs['id']))"
      ],
      "metadata": {
        "id": "DE2oQGQnXiLA",
        "outputId": "2faca879-0ae9-4ee6-d56e-e14c52b37cc0",
        "colab": {
          "base_uri": "https://localhost:8080/"
        }
      },
      "execution_count": 32,
      "outputs": [
        {
          "output_type": "stream",
          "name": "stdout",
          "text": [
            "42\n"
          ]
        }
      ]
    },
    {
      "cell_type": "code",
      "execution_count": 33,
      "metadata": {
        "id": "HqlOlo01AjdC"
      },
      "outputs": [],
      "source": [
        "sim_name = 'RefL0100N1504'\n",
        "sim_size = 100.\n",
        "galaxy_ids = Data_IDs['id'] #21730535\n",
        "zs = []\n",
        "halos = []\n",
        "bhs = []\n",
        "sfrs = []\n",
        "\n",
        "for i in range(len(galaxy_ids)):\n",
        "  Query = \"SELECT \\\n",
        "              gal.Redshift as z, \\\n",
        "              gal.MassType_DM as halo, \\\n",
        "              gal.MassType_BH as bh, \\\n",
        "              gal.StarFormationRate as sfr \\\n",
        "            FROM \\\n",
        "              %s_Subhalo as gal, \\\n",
        "              %s_Subhalo as ref \\\n",
        "            WHERE \\\n",
        "              ref.GalaxyID=%s and \\\n",
        "              ((gal.SnapNum > ref.SnapNum and ref.GalaxyID \\\n",
        "              between gal.GalaxyID and gal.TopLeafID) or \\\n",
        "              (gal.SnapNum <= ref.SnapNum and gal.GalaxyID \\\n",
        "              between ref.GalaxyID and ref.TopLeafID)) \\\n",
        "            ORDER BY \\\n",
        "              gal.Redshift\"%(sim_name, sim_name, galaxy_ids[i])\n",
        "\n",
        "  Data = sql.execute_query(con, Query)\n",
        "  zs.append(Data['z'])\n",
        "  halos.append(Data['halo'])\n",
        "  bhs.append(Data['bh'])\n",
        "  sfrs.append(Data['sfr'])"
      ]
    },
    {
      "cell_type": "code",
      "source": [
        "plt.figure()\n",
        "\n",
        "for i in range(len(bhs)):\n",
        "  plt.plot(zs[i], bhs[i])\n",
        "\n",
        "plt.show()"
      ],
      "metadata": {
        "id": "keoyk-vRX8Rn",
        "outputId": "dd63978b-aca8-4287-a0bd-25c87c3cc581",
        "colab": {
          "base_uri": "https://localhost:8080/",
          "height": 276
        }
      },
      "execution_count": 34,
      "outputs": [
        {
          "output_type": "display_data",
          "data": {
            "text/plain": [
              "<Figure size 432x288 with 1 Axes>"
            ],
            "image/png": "[encoded data removed]"
          },
          "metadata": {
            "needs_background": "light"
          }
        }
      ]
    },
    {
      "cell_type": "code",
      "source": [
        "for i in range(len(bhs)):\n",
        "  print(galaxy_ids[i])\n",
        "  print(bhs[i][0]/1e10)\n",
        "  print('')"
      ],
      "metadata": {
        "id": "aqBR2590aJtq",
        "outputId": "8ddb014f-1a81-49de-c97b-a38a5e546c9b",
        "colab": {
          "base_uri": "https://localhost:8080/"
        }
      },
      "execution_count": 35,
      "outputs": [
        {
          "output_type": "stream",
          "name": "stdout",
          "text": [
            "14793103\n",
            "0.1319775616\n",
            "\n",
            "15141076\n",
            "0.111078016\n",
            "\n",
            "16001261\n",
            "0.2098249088\n",
            "\n",
            "16608246\n",
            "0.120306304\n",
            "\n",
            "17697184\n",
            "0.2728889856\n",
            "\n",
            "17749095\n",
            "0.1559482496\n",
            "\n",
            "17775312\n",
            "0.1422927232\n",
            "\n",
            "18680975\n",
            "0.3076321536\n",
            "\n",
            "18719249\n",
            "0.2151824896\n",
            "\n",
            "18737995\n",
            "0.1877658624\n",
            "\n",
            "18758770\n",
            "0.1554318336\n",
            "\n",
            "18816264\n",
            "0.2593699584\n",
            "\n",
            "18849992\n",
            "0.1811711616\n",
            "\n",
            "18873061\n",
            "0.1216034176\n",
            "\n",
            "18893253\n",
            "0.3042075136\n",
            "\n",
            "18961506\n",
            "0.1867010304\n",
            "\n",
            "19020656\n",
            "0.191451264\n",
            "\n",
            "19054212\n",
            "0.1634551424\n",
            "\n",
            "19076566\n",
            "0.2079582464\n",
            "\n",
            "19104572\n",
            "0.1105098112\n",
            "\n",
            "19182761\n",
            "0.4495218176\n",
            "\n",
            "19250447\n",
            "0.1446856704\n",
            "\n",
            "19279479\n",
            "0.12875296\n",
            "\n",
            "19291687\n",
            "0.1162617088\n",
            "\n",
            "19380932\n",
            "0.1342731136\n",
            "\n",
            "19402355\n",
            "0.1487117952\n",
            "\n",
            "19862361\n",
            "0.1165499264\n",
            "\n",
            "19891777\n",
            "0.151273536\n",
            "\n",
            "19927838\n",
            "0.1516724992\n",
            "\n",
            "20009128\n",
            "0.1103452928\n",
            "\n",
            "20163968\n",
            "0.4528820224\n",
            "\n",
            "20574261\n",
            "0.410836992\n",
            "\n",
            "20710010\n",
            "0.1437987328\n",
            "\n",
            "20823324\n",
            "0.184771392\n",
            "\n",
            "20867355\n",
            "0.3903080704\n",
            "\n",
            "20915734\n",
            "0.1984240768\n",
            "\n",
            "20995479\n",
            "0.2111116928\n",
            "\n",
            "21019891\n",
            "0.2995732736\n",
            "\n",
            "21573586\n",
            "1.2437305344\n",
            "\n",
            "21730535\n",
            "1.1993590784\n",
            "\n",
            "21986361\n",
            "1.0382144512\n",
            "\n",
            "9915689\n",
            "0.1202808576\n",
            "\n"
          ]
        }
      ]
    }
  ]
}