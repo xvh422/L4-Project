{
 "cells": [
  {
   "cell_type": "markdown",
   "metadata": {
    "colab_type": "text",
    "id": "view-in-github"
   },
   "source": [
    "<a href=\"https://colab.research.google.com/github/xvh422/L4-Project/blob/main/Mass%20Function.ipynb\" target=\"_parent\"><img src=\"https://colab.research.google.com/assets/colab-badge.svg\" alt=\"Open In Colab\"/></a>"
   ]
  },
  {
   "cell_type": "code",
   "execution_count": 1,
   "metadata": {
    "colab": {
     "base_uri": "https://localhost:8080/"
    },
    "id": "ctUxSLwPh3VN",
    "outputId": "aaf917de-eb63-4d04-82f9-1dfeae72485b"
   },
   "outputs": [
    {
     "name": "stdout",
     "output_type": "stream",
     "text": [
      "Defaulting to user installation because normal site-packages is not writeable\n",
      "Requirement already satisfied: eagleSqlTools in c:\\users\\carte\\appdata\\roaming\\python\\python39\\site-packages (2.0.0)\n",
      "Requirement already satisfied: numpy in c:\\programdata\\anaconda3\\lib\\site-packages (from eagleSqlTools) (1.21.5)\n",
      "Defaulting to user installation because normal site-packages is not writeable\n",
      "Collecting colossus\n",
      "  Downloading colossus-1.3.1-py2.py3-none-any.whl (197 kB)\n",
      "Installing collected packages: colossus\n",
      "Successfully installed colossus-1.3.1\n"
     ]
    }
   ],
   "source": [
    "!pip install eagleSqlTools\n",
    "!pip install colossus"
   ]
  },
  {
   "cell_type": "code",
   "execution_count": 2,
   "metadata": {
    "id": "25348785"
   },
   "outputs": [],
   "source": [
    "import eagleSqlTools as sql\n",
    "import numpy as np\n",
    "import matplotlib.pyplot as plt\n",
    "import matplotlib.colors as col\n",
    "from mpl_toolkits.axes_grid1 import make_axes_locatable\n",
    "from colossus.cosmology import cosmology\n",
    "from colossus.lss import mass_function\n",
    "\n",
    "con = sql.connect(\"vwg533\", password = \"FZtn087h\")"
   ]
  },
  {
   "cell_type": "code",
   "execution_count": 3,
   "metadata": {
    "colab": {
     "base_uri": "https://localhost:8080/"
    },
    "id": "KIQohLR8kvIi",
    "outputId": "f70c9c24-86d2-4f15-9989-eb2c957ea451"
   },
   "outputs": [
    {
     "data": {
      "text/plain": [
       "<colossus.cosmology.cosmology.Cosmology at 0x275203a19a0>"
      ]
     },
     "execution_count": 3,
     "metadata": {},
     "output_type": "execute_result"
    }
   ],
   "source": [
    "cosmology.setCosmology('WMAP9')\n",
    "# mfunc_fof = mass_function.massFunction(1E12, 0.0, mdef = 'fof', model = 'watson13')"
   ]
  },
  {
   "cell_type": "code",
   "execution_count": 7,
   "metadata": {
    "id": "0P-rFgKRk7D_"
   },
   "outputs": [],
   "source": [
    "powers = np.arange(12.,15.1, 0.1)\n",
    "masses = 10**powers\n",
    "mfunc = []\n",
    "\n",
    "for i in range (len(masses)):\n",
    "  mfunc = mfunc + [mass_function.massFunction(masses[i], 0.1, mdef = 'fof', model = 'watson13')]# mdef = 'vir', model = 'tinker08')]"
   ]
  },
  {
   "cell_type": "code",
   "execution_count": 5,
   "metadata": {
    "id": "sbY1BqdF0IDI"
   },
   "outputs": [],
   "source": [
    "sim_name = 'RefL0100N1504'\n",
    "sim_size = 100.\n",
    "bin_width = 0.2\n",
    "\n",
    "Query = \"SELECT \\\n",
    "          0.1+floor(log10(FOF.Group_M_Crit200)/%s)*%s as mass, \\\n",
    "          count(*) as num \\\n",
    "        FROM \\\n",
    "          %s_SubHalo as SH, \\\n",
    "          %s_FOF as FOF \\\n",
    "        WHERE \\\n",
    "          SH.SnapNum = 27 and \\\n",
    "          SH.GroupID = FOF.GroupID and \\\n",
    "          FOF.Group_M_Crit200 > 1e12 \\\n",
    "        GROUP BY \\\n",
    "          0.1+floor(log10(FOF.Group_M_Crit200)/%s)*%s \\\n",
    "        ORDER BY \\\n",
    "          mass\"%(bin_width, bin_width, sim_name, sim_name, bin_width, bin_width)\n",
    "\n",
    "Results = sql.execute_query(con, Query)"
   ]
  },
  {
   "cell_type": "code",
   "execution_count": 18,
   "metadata": {
    "id": "ncw-7Svb8lL_"
   },
   "outputs": [],
   "source": [
    "sim_name = 'RefL0100N1504'\n",
    "sim_size = 100.\n",
    "bin_width = 0.2\n",
    "\n",
    "Query = \"SELECT \\\n",
    "          0.1+floor(log10(AP.Mass_DM)/%s)*%s as mass, \\\n",
    "          count(*) as num \\\n",
    "        FROM \\\n",
    "          %s_SubHalo as SH, \\\n",
    "          %s_Aperture as AP \\\n",
    "        WHERE \\\n",
    "          SH.GalaxyID = AP.GalaxyID and \\\n",
    "          AP.Mass_DM > 1e12 and \\\n",
    "          SH.SnapNum = 27 \\\n",
    "        GROUP BY \\\n",
    "          0.1+floor(log10(AP.Mass_DM)/%s)*%s \\\n",
    "        ORDER BY \\\n",
    "          mass\"%(bin_width, bin_width, sim_name, sim_name, bin_width, bin_width)\n",
    "\n",
    "Results = sql.execute_query(con, Query)"
   ]
  },
  {
   "cell_type": "code",
   "execution_count": 28,
   "metadata": {
    "id": "7t32_3sJ93fn"
   },
   "outputs": [],
   "source": [
    "sim_name = 'RefL0100N1504'\n",
    "sim_size = 100.\n",
    "bin_width = 0.2\n",
    "\n",
    "Query = \"SELECT \\\n",
    "          0.1+floor(log10(SH.MassType_DM)/%s)*%s as mass, \\\n",
    "          count(*) as num \\\n",
    "        FROM \\\n",
    "          %s_SubHalo as SH \\\n",
    "        WHERE \\\n",
    "          SH.SnapNum = 27 and \\\n",
    "          SH.MassType_DM > 1e12 \\\n",
    "        GROUP BY \\\n",
    "          0.1+floor(log10(SH.MassType_DM)/%s)*%s \\\n",
    "        ORDER BY \\\n",
    "          mass\"%(bin_width, bin_width, sim_name, bin_width, bin_width)\n",
    "\n",
    "Results = sql.execute_query(con, Query)"
   ]
  },
  {
   "cell_type": "code",
   "execution_count": 29,
   "metadata": {
    "colab": {
     "base_uri": "https://localhost:8080/",
     "height": 294
    },
    "id": "QQVKoB3iGrJT",
    "outputId": "4f34c36c-6b8a-454c-ba05-40a26d6e42ea"
   },
   "outputs": [
    {
     "data": {
      "image/png": "[encoded data removed]",
      "text/plain": [
       "<Figure size 432x288 with 1 Axes>"
      ]
     },
     "metadata": {
      "needs_background": "light"
     },
     "output_type": "display_data"
    }
   ],
   "source": [
    "hist = Results['num'][:] / float(sim_size)**3.\n",
    "hist = hist / bin_width\n",
    "\n",
    "plt.figure()\n",
    "\n",
    "plt.plot(Results['mass'], np.log10(hist), label='EAGLE')\n",
    "\n",
    "plt.plot(np.log10(masses), np.log10(mfunc), label='Colossus')\n",
    "\n",
    "plt.xlabel(r'log$_{10}$ (M$_{H}$ [M$_{\\odot}$])', fontsize=15)\n",
    "plt.ylabel(r'log$_{10}$ (dn/dlog$_{10}$(M$_{H}$) [cMpc$^{-3}$])', fontsize=15)\n",
    "plt.legend()\n",
    "\n",
    "plt.savefig('Plot_5.jpeg')\n",
    "plt.show()"
   ]
  },
  {
   "cell_type": "code",
   "execution_count": null,
   "metadata": {},
   "outputs": [],
   "source": []
  }
 ],
 "metadata": {
  "colab": {
   "authorship_tag": "ABX9TyPA1x/kvgXTx6VilQvdb8FN",
   "include_colab_link": true,
   "provenance": []
  },
  "kernelspec": {
   "display_name": "Python 3 (ipykernel)",
   "language": "python",
   "name": "python3"
  },
  "language_info": {
   "codemirror_mode": {
    "name": "ipython",
    "version": 3
   },
   "file_extension": ".py",
   "mimetype": "text/x-python",
   "name": "python",
   "nbconvert_exporter": "python",
   "pygments_lexer": "ipython3",
   "version": "3.9.12"
  }
 },
 "nbformat": 4,
 "nbformat_minor": 1
}
