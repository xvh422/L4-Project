{
  "nbformat": 4,
  "nbformat_minor": 0,
  "metadata": {
    "colab": {
      "provenance": [],
      "authorship_tag": "ABX9TyOy+DcqxP9Yytm/GLa0iRIn",
      "include_colab_link": true
    },
    "kernelspec": {
      "name": "python3",
      "display_name": "Python 3"
    },
    "language_info": {
      "name": "python"
    }
  },
  "cells": [
    {
      "cell_type": "markdown",
      "metadata": {
        "id": "view-in-github",
        "colab_type": "text"
      },
      "source": [
        "<a href=\"https://colab.research.google.com/github/xvh422/L4-Project/blob/main/Merger.ipynb\" target=\"_parent\"><img src=\"https://colab.research.google.com/assets/colab-badge.svg\" alt=\"Open In Colab\"/></a>"
      ]
    },
    {
      "cell_type": "code",
      "execution_count": 2,
      "metadata": {
        "colab": {
          "base_uri": "https://localhost:8080/"
        },
        "id": "ctUxSLwPh3VN",
        "outputId": "dc0a544f-b788-49dc-8890-b5b1aac160ee"
      },
      "outputs": [
        {
          "output_type": "stream",
          "name": "stdout",
          "text": [
            "Looking in indexes: https://pypi.org/simple, https://us-python.pkg.dev/colab-wheels/public/simple/\n",
            "Collecting eagleSqlTools\n",
            "  Downloading eagleSqlTools-2.0.0-py3-none-any.whl (16 kB)\n",
            "Requirement already satisfied: numpy in /usr/local/lib/python3.7/dist-packages (from eagleSqlTools) (1.21.6)\n",
            "Installing collected packages: eagleSqlTools\n",
            "Successfully installed eagleSqlTools-2.0.0\n"
          ]
        }
      ],
      "source": [
        "!pip install eagleSqlTools"
      ]
    },
    {
      "cell_type": "code",
      "execution_count": 3,
      "metadata": {
        "id": "25348785"
      },
      "outputs": [],
      "source": [
        "import eagleSqlTools as sql\n",
        "import numpy as np\n",
        "import matplotlib.pyplot as plt\n",
        "import matplotlib.colors as col\n",
        "from mpl_toolkits.axes_grid1 import make_axes_locatable\n",
        "\n",
        "con = sql.connect(\"vwg533\", password = \"FZtn087h\")"
      ]
    },
    {
      "cell_type": "code",
      "source": [
        "sim_name = 'RefL0025N0752'\n",
        "sim_size = 25.\n",
        "\n",
        "# All data points\n",
        "Query_1 = \"SELECT \\\n",
        "            gal.Redshift as z, \\\n",
        "            gal.MassType_Star as mass \\\n",
        "          FROM \\\n",
        "            %s_Subhalo as gal, \\\n",
        "            %s_Subhalo as ref \\\n",
        "          WHERE \\\n",
        "            ref.GalaxyID=1848116 and \\\n",
        "            ((gal.SnapNum > ref.SnapNum and ref.GalaxyID \\\n",
        "            between gal.GalaxyID and gal.TopLeafID) or \\\n",
        "            (gal.SnapNum <= ref.SnapNum and gal.GalaxyID \\\n",
        "            between ref.GalaxyID and ref.TopLeafID)) \\\n",
        "          ORDER BY \\\n",
        "            gal.Redshift\"%(sim_name, sim_name)\n",
        "\n",
        "Data_1 = sql.execute_query(con, Query_1)"
      ],
      "metadata": {
        "id": "HqlOlo01AjdC"
      },
      "execution_count": 13,
      "outputs": []
    },
    {
      "cell_type": "code",
      "execution_count": 16,
      "metadata": {
        "id": "EcvB5J6tLYLD"
      },
      "outputs": [],
      "source": [
        "def log_with_zeros(data): # Replaces zeroes with the smallest nonzero value.\n",
        "  logs = np.empty(len(data))\n",
        "  for i in range(0, len(data)):\n",
        "    if data[i] == 0.0:\n",
        "      logs[i] = 99.\n",
        "    else:\n",
        "      logs[i] = np.log10(data[i])\n",
        "  m = logs.min()\n",
        "  for j in range(0, len(logs)):\n",
        "    if logs[j] == 99.:\n",
        "      logs[j] = m\n",
        "    else:\n",
        "      logs[j] = logs[j]\n",
        "  return logs"
      ]
    },
    {
      "cell_type": "code",
      "source": [
        "plt.scatter(Data_1['z'], log_with_zeros(Data_1['mass']))\n",
        "plt.show()"
      ],
      "metadata": {
        "colab": {
          "base_uri": "https://localhost:8080/",
          "height": 265
        },
        "id": "zraLXynwC91F",
        "outputId": "0915c399-3a09-4d4f-96d8-c34ac644d561"
      },
      "execution_count": 17,
      "outputs": [
        {
          "output_type": "display_data",
          "data": {
            "text/plain": [
              "<Figure size 432x288 with 1 Axes>"
            ],
            "image/png": "[encoded data removed]"
          },
          "metadata": {
            "needs_background": "light"
          }
        }
      ]
    }
  ]
}