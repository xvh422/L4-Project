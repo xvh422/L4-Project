{
  "nbformat": 4,
  "nbformat_minor": 0,
  "metadata": {
    "colab": {
      "provenance": [],
      "authorship_tag": "ABX9TyN9ENhuM7xRYYd6L6ZZo0ps",
      "include_colab_link": true
    },
    "kernelspec": {
      "name": "python3",
      "display_name": "Python 3"
    },
    "language_info": {
      "name": "python"
    }
  },
  "cells": [
    {
      "cell_type": "markdown",
      "metadata": {
        "id": "view-in-github",
        "colab_type": "text"
      },
      "source": [
        "<a href=\"https://colab.research.google.com/github/xvh422/L4-Project/blob/main/Plot%203.ipynb\" target=\"_parent\"><img src=\"https://colab.research.google.com/assets/colab-badge.svg\" alt=\"Open In Colab\"/></a>"
      ]
    },
    {
      "cell_type": "code",
      "execution_count": 1,
      "metadata": {
        "colab": {
          "base_uri": "https://localhost:8080/"
        },
        "id": "ctUxSLwPh3VN",
        "outputId": "26b6d675-4870-4a73-da7b-becbd837149f"
      },
      "outputs": [
        {
          "output_type": "stream",
          "name": "stdout",
          "text": [
            "Looking in indexes: https://pypi.org/simple, https://us-python.pkg.dev/colab-wheels/public/simple/\n",
            "Collecting eagleSqlTools\n",
            "  Downloading eagleSqlTools-2.0.0-py3-none-any.whl (16 kB)\n",
            "Requirement already satisfied: numpy in /usr/local/lib/python3.7/dist-packages (from eagleSqlTools) (1.21.6)\n",
            "Installing collected packages: eagleSqlTools\n",
            "Successfully installed eagleSqlTools-2.0.0\n"
          ]
        }
      ],
      "source": [
        "!pip install eagleSqlTools"
      ]
    },
    {
      "cell_type": "code",
      "execution_count": 2,
      "metadata": {
        "id": "25348785"
      },
      "outputs": [],
      "source": [
        "import eagleSqlTools as sql\n",
        "import numpy as np\n",
        "import matplotlib.pyplot as plt\n",
        "import matplotlib.colors as col\n",
        "from mpl_toolkits.axes_grid1 import make_axes_locatable\n",
        "\n",
        "con = sql.connect(\"vwg533\", password = \"FZtn087h\")"
      ]
    },
    {
      "cell_type": "code",
      "source": [
        "sim_name = 'RefL0100N1504'\n",
        "sim_size = 100.\n",
        "\n",
        "# z=0\n",
        "Query_1 = \"SELECT \\\n",
        "            log10(AP.Mass_Star) as stars, \\\n",
        "            AP.Mass_DM as halo, \\\n",
        "            AP.Mass_BH as bh \\\n",
        "           FROM \\\n",
        "            %s_SubHalo as SH, \\\n",
        "            %s_Aperture as AP \\\n",
        "           WHERE \\\n",
        "            SH.SnapNum = 28 and \\\n",
        "            SH.SubGroupNumber = 0 and \\\n",
        "            AP.Mass_Star > 1.0e9 and \\\n",
        "            AP.ApertureSize = 30 and \\\n",
        "            SH.GalaxyID = AP.GalaxyID\"%(sim_name, sim_name)\n",
        "\n",
        "# z=0.5\n",
        "Query_2 = \"SELECT \\\n",
        "            log10(AP.Mass_Star) as stars, \\\n",
        "            AP.Mass_DM as halo, \\\n",
        "            AP.Mass_BH as bh \\\n",
        "           FROM \\\n",
        "            %s_SubHalo as SH, \\\n",
        "            %s_Aperture as AP \\\n",
        "           WHERE \\\n",
        "            SH.SnapNum = 23 and \\\n",
        "            SH.SubGroupNumber = 0 and \\\n",
        "            AP.Mass_Star > 1.0e9 and \\\n",
        "            AP.ApertureSize = 30 and \\\n",
        "            SH.GalaxyID = AP.GalaxyID\"%(sim_name, sim_name)\n",
        "\n",
        "# z=1\n",
        "Query_3 = \"SELECT \\\n",
        "            log10(AP.Mass_Star) as stars, \\\n",
        "            AP.Mass_DM as halo, \\\n",
        "            AP.Mass_BH as bh \\\n",
        "           FROM \\\n",
        "            %s_SubHalo as SH, \\\n",
        "            %s_Aperture as AP \\\n",
        "           WHERE \\\n",
        "            SH.SnapNum = 19 and \\\n",
        "            SH.SubGroupNumber = 0 and \\\n",
        "            AP.Mass_Star > 1.0e9 and \\\n",
        "            AP.ApertureSize = 30 and \\\n",
        "            SH.GalaxyID = AP.GalaxyID\"%(sim_name, sim_name)\n",
        "\n",
        "Data_1 = sql.execute_query(con, Query_1)\n",
        "Data_2 = sql.execute_query(con, Query_2)\n",
        "Data_3 = sql.execute_query(con, Query_3)"
      ],
      "metadata": {
        "id": "y47gJDdK1A9O"
      },
      "execution_count": 64,
      "outputs": []
    },
    {
      "cell_type": "code",
      "execution_count": 47,
      "metadata": {
        "id": "EcvB5J6tLYLD"
      },
      "outputs": [],
      "source": [
        "#Replaces zeroes with the smallest nonzero value.\n",
        "def log_with_zeros(data):\n",
        "  logs = np.empty(len(data))\n",
        "  for i in range(0, len(data)):\n",
        "    if data[i] == 0.0:\n",
        "      logs[i] = 99.\n",
        "    else:\n",
        "      logs[i] = np.log10(data[i])\n",
        "  m = logs.min()\n",
        "  for j in range(0, len(logs)):\n",
        "    if logs[j] == 99.:\n",
        "      logs[j] = m\n",
        "    else:\n",
        "      logs[j] = logs[j]\n",
        "  return logs\n",
        "\n",
        "# Returns median y values within bins of size 'step' to make a line of \"best fit\"\n",
        "def medians(xs, ys, min, max, step):\n",
        "  xvals = np.arange(min, max+step, step)\n",
        "  meds = np.empty(len(xvals))\n",
        "  for i in range(len(meds)):\n",
        "    yvals = ys[np.logical_and(xs > xvals[i], xs < (xvals[i]+step))]\n",
        "    meds[i] = np.median(yvals)\n",
        "  return xvals + step/2, meds\n",
        "\n",
        "# Removes element from both arrays if one/both of them is zero\n",
        "def remove_zeros_2(data1, data2):\n",
        "  out_1 = []\n",
        "  out_2 = []\n",
        "  for i in range(len(data1)):\n",
        "    if data1[i] == 0:\n",
        "      out_1 = out_1\n",
        "      out_2 = out_2\n",
        "    elif data2[i] == 0:\n",
        "      out_1 = out_1\n",
        "      out_2 = out_2\n",
        "    else:\n",
        "      out_1 = out_1 + [data1[i]]\n",
        "      out_2 = out_2 + [data2[i]]\n",
        "  return np.array(out_1), np.array(out_2)"
      ]
    },
    {
      "cell_type": "code",
      "source": [
        "loghalo_1 = np.log10(remove_zeros_2(Data_1['halo'], Data_1['bh'])[0])\n",
        "bh_1 = remove_zeros_2(Data_1['halo'], Data_1['bh'])[1]\n",
        "\n",
        "loghalo_2 = np.log10(remove_zeros_2(Data_2['halo'], Data_2['bh'])[0])\n",
        "bh_2 = remove_zeros_2(Data_2['halo'], Data_2['bh'])[1]\n",
        "\n",
        "loghalo_3 = np.log10(remove_zeros_2(Data_3['halo'], Data_3['bh'])[0])\n",
        "bh_3 = remove_zeros_2(Data_3['halo'], Data_3['bh'])[1]"
      ],
      "metadata": {
        "id": "OWfl3lpuQ1CY"
      },
      "execution_count": 68,
      "outputs": []
    },
    {
      "cell_type": "code",
      "source": [
        "x1 = medians(loghalo_1, bh_1, 10.5, 12, 0.1)[0]\n",
        "y1 = medians(loghalo_1, bh_1, 10.5, 12, 0.1)[1]\n",
        "x2 = medians(loghalo_2, bh_2, 10.5, 12, 0.1)[0]\n",
        "y2 = medians(loghalo_2, bh_2, 10.5, 12, 0.1)[1]\n",
        "x3 = medians(loghalo_3, bh_3, 10.5, 12, 0.1)[0]\n",
        "y3 = medians(loghalo_3, bh_3, 10.5, 12, 0.1)[1]"
      ],
      "metadata": {
        "id": "_73ac3IScKa8"
      },
      "execution_count": 69,
      "outputs": []
    },
    {
      "cell_type": "code",
      "source": [
        "plt.figure(figsize = (6,6))\n",
        "\n",
        "plt.scatter(loghalo_1, bh_1/1e8, color='b', s=1, label='z=0')\n",
        "plt.scatter(loghalo_2, bh_2/1e8, color='g', s=1, label='z=0.5')\n",
        "plt.scatter(loghalo_3, bh_3/1e8, color='r', s=1, label='z=1')\n",
        "\n",
        "plt.plot(x1, y1/1e8, linewidth=2, color='cyan', label='z=0')\n",
        "plt.plot(x2, y2/1e8, linewidth=2, color='lime', label='z=0.5')\n",
        "plt.plot(x3, y3/1e8, linewidth=2, color='black', label='z=1')\n",
        "\n",
        "plt.legend()\n",
        "plt.ylim(0,6)\n",
        "\n",
        "plt.show()"
      ],
      "metadata": {
        "id": "-pCVz4j949od",
        "colab": {
          "base_uri": "https://localhost:8080/",
          "height": 378
        },
        "outputId": "3c35a557-5000-417a-f521-87a9f2af0e9f"
      },
      "execution_count": 72,
      "outputs": [
        {
          "output_type": "display_data",
          "data": {
            "text/plain": [
              "<Figure size 432x432 with 1 Axes>"
            ],
            "image/png": "[encoded data removed]"
          },
          "metadata": {
            "needs_background": "light"
          }
        }
      ]
    }
  ]
}