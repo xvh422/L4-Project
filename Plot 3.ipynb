{
  "nbformat": 4,
  "nbformat_minor": 0,
  "metadata": {
    "colab": {
      "provenance": [],
      "authorship_tag": "ABX9TyMqnQtSTWfEbcgeC8KkYo+H",
      "include_colab_link": true
    },
    "kernelspec": {
      "name": "python3",
      "display_name": "Python 3"
    },
    "language_info": {
      "name": "python"
    }
  },
  "cells": [
    {
      "cell_type": "markdown",
      "metadata": {
        "id": "view-in-github",
        "colab_type": "text"
      },
      "source": [
        "<a href=\"https://colab.research.google.com/github/xvh422/L4-Project/blob/main/Plot%203.ipynb\" target=\"_parent\"><img src=\"https://colab.research.google.com/assets/colab-badge.svg\" alt=\"Open In Colab\"/></a>"
      ]
    },
    {
      "cell_type": "code",
      "execution_count": 2,
      "metadata": {
        "colab": {
          "base_uri": "https://localhost:8080/"
        },
        "id": "ctUxSLwPh3VN",
        "outputId": "b3000b05-7af8-4928-bf84-489b211d5dae"
      },
      "outputs": [
        {
          "output_type": "stream",
          "name": "stdout",
          "text": [
            "Looking in indexes: https://pypi.org/simple, https://us-python.pkg.dev/colab-wheels/public/simple/\n",
            "Collecting eagleSqlTools\n",
            "  Downloading eagleSqlTools-2.0.0-py3-none-any.whl (16 kB)\n",
            "Requirement already satisfied: numpy in /usr/local/lib/python3.7/dist-packages (from eagleSqlTools) (1.21.6)\n",
            "Installing collected packages: eagleSqlTools\n",
            "Successfully installed eagleSqlTools-2.0.0\n"
          ]
        }
      ],
      "source": [
        "!pip install eagleSqlTools"
      ]
    },
    {
      "cell_type": "code",
      "execution_count": 3,
      "metadata": {
        "id": "25348785"
      },
      "outputs": [],
      "source": [
        "import eagleSqlTools as sql\n",
        "import numpy as np\n",
        "import matplotlib.pyplot as plt\n",
        "import matplotlib.colors as col\n",
        "from mpl_toolkits.axes_grid1 import make_axes_locatable\n",
        "\n",
        "con = sql.connect(\"vwg533\", password = \"FZtn087h\")"
      ]
    },
    {
      "cell_type": "code",
      "source": [
        "sim_name = 'RefL0100N1504'\n",
        "sim_size = 100.\n",
        "\n",
        "# z=0\n",
        "Query_1 = \"SELECT \\\n",
        "            log10(AP.Mass_Star) as stars, \\\n",
        "            AP.Mass_DM as halo, \\\n",
        "            AP.Mass_BH as bh \\\n",
        "           FROM \\\n",
        "            %s_SubHalo as SH, \\\n",
        "            %s_Aperture as AP \\\n",
        "           WHERE \\\n",
        "            SH.SnapNum = 28 and \\\n",
        "            SH.SubGroupNumber = 0 and \\\n",
        "            AP.Mass_Star > 1.0e9 and \\\n",
        "            AP.ApertureSize = 30 and \\\n",
        "            SH.GalaxyID = AP.GalaxyID\"%(sim_name, sim_name)\n",
        "\n",
        "# z=0.5\n",
        "Query_2 = \"SELECT \\\n",
        "            log10(AP.Mass_Star) as stars, \\\n",
        "            AP.Mass_DM as halo, \\\n",
        "            AP.Mass_BH as bh \\\n",
        "           FROM \\\n",
        "            %s_SubHalo as SH, \\\n",
        "            %s_Aperture as AP \\\n",
        "           WHERE \\\n",
        "            SH.SnapNum = 23 and \\\n",
        "            SH.SubGroupNumber = 0 and \\\n",
        "            AP.Mass_Star > 1.0e9 and \\\n",
        "            AP.ApertureSize = 30 and \\\n",
        "            SH.GalaxyID = AP.GalaxyID\"%(sim_name, sim_name)\n",
        "\n",
        "# z=1\n",
        "Query_3 = \"SELECT \\\n",
        "            log10(AP.Mass_Star) as stars, \\\n",
        "            AP.Mass_DM as halo, \\\n",
        "            AP.Mass_BH as bh \\\n",
        "           FROM \\\n",
        "            %s_SubHalo as SH, \\\n",
        "            %s_Aperture as AP \\\n",
        "           WHERE \\\n",
        "            SH.SnapNum = 19 and \\\n",
        "            SH.SubGroupNumber = 0 and \\\n",
        "            AP.Mass_Star > 1.0e9 and \\\n",
        "            AP.ApertureSize = 30 and \\\n",
        "            SH.GalaxyID = AP.GalaxyID\"%(sim_name, sim_name)\n",
        "\n",
        "Data_1 = sql.execute_query(con, Query_1)\n",
        "Data_2 = sql.execute_query(con, Query_2)\n",
        "Data_3 = sql.execute_query(con, Query_3)"
      ],
      "metadata": {
        "id": "y47gJDdK1A9O"
      },
      "execution_count": 4,
      "outputs": []
    },
    {
      "cell_type": "code",
      "execution_count": 5,
      "metadata": {
        "id": "EcvB5J6tLYLD"
      },
      "outputs": [],
      "source": [
        "def log_with_zeros(data): #Replaces zeroes with the smallest nonzero value.\n",
        "  logs = np.empty(len(data))\n",
        "  for i in range(0, len(data)):\n",
        "    if data[i] == 0.0:\n",
        "      logs[i] = 99.\n",
        "    else:\n",
        "      logs[i] = np.log10(data[i])\n",
        "  m = logs.min()\n",
        "  for j in range(0, len(logs)):\n",
        "    if logs[j] == 99.:\n",
        "      logs[j] = m\n",
        "    else:\n",
        "      logs[j] = logs[j]\n",
        "  return logs\n",
        "\n",
        "  # Returns median y values within bins of size 'step' to make a line of \"best fit\"\n",
        "def medians(xs, ys, min, max, step):\n",
        "  xvals = np.arange(min, max+step, step)\n",
        "  meds = np.empty(len(xvals))\n",
        "  for i in range(len(meds)):\n",
        "    yvals = ys[np.logical_and(xs > xvals[i], xs < (xvals[i]+step))]\n",
        "    meds[i] = np.median(yvals)\n",
        "  return xvals + step/2, meds"
      ]
    },
    {
      "cell_type": "code",
      "source": [],
      "metadata": {
        "id": "-pCVz4j949od"
      },
      "execution_count": null,
      "outputs": []
    }
  ]
}