{
  "nbformat": 4,
  "nbformat_minor": 0,
  "metadata": {
    "colab": {
      "provenance": [],
      "authorship_tag": "ABX9TyPa+PN8ftylHkZrPRyfdHEe",
      "include_colab_link": true
    },
    "kernelspec": {
      "name": "python3",
      "display_name": "Python 3"
    },
    "language_info": {
      "name": "python"
    }
  },
  "cells": [
    {
      "cell_type": "markdown",
      "metadata": {
        "id": "view-in-github",
        "colab_type": "text"
      },
      "source": [
        "<a href=\"https://colab.research.google.com/github/xvh422/L4-Project/blob/main/Plot%203.ipynb\" target=\"_parent\"><img src=\"https://colab.research.google.com/assets/colab-badge.svg\" alt=\"Open In Colab\"/></a>"
      ]
    },
    {
      "cell_type": "code",
      "execution_count": 1,
      "metadata": {
        "colab": {
          "base_uri": "https://localhost:8080/"
        },
        "id": "ctUxSLwPh3VN",
        "outputId": "3b55ff15-ca82-4576-c0fc-d72e5ca79046"
      },
      "outputs": [
        {
          "output_type": "stream",
          "name": "stdout",
          "text": [
            "Looking in indexes: https://pypi.org/simple, https://us-python.pkg.dev/colab-wheels/public/simple/\n",
            "Collecting eagleSqlTools\n",
            "  Downloading eagleSqlTools-2.0.0-py3-none-any.whl (16 kB)\n",
            "Requirement already satisfied: numpy in /usr/local/lib/python3.7/dist-packages (from eagleSqlTools) (1.21.6)\n",
            "Installing collected packages: eagleSqlTools\n",
            "Successfully installed eagleSqlTools-2.0.0\n"
          ]
        }
      ],
      "source": [
        "!pip install eagleSqlTools"
      ]
    },
    {
      "cell_type": "code",
      "execution_count": 2,
      "metadata": {
        "id": "25348785"
      },
      "outputs": [],
      "source": [
        "import eagleSqlTools as sql\n",
        "import numpy as np\n",
        "import matplotlib.pyplot as plt\n",
        "import matplotlib.colors as col\n",
        "from mpl_toolkits.axes_grid1 import make_axes_locatable\n",
        "\n",
        "con = sql.connect(\"vwg533\", password = \"FZtn087h\")"
      ]
    },
    {
      "cell_type": "code",
      "source": [
        "sim_name = 'RefL0100N1504'\n",
        "sim_size = 100.\n",
        "\n",
        "Query_1 = \"SELECT \\\n",
        "            log10(AP.Mass_Star) as stars, \\\n",
        "            AP.Mass_DM as halo, \\\n",
        "            AP.Mass_BH as bh \\\n",
        "           FROM \\\n",
        "            %s_SubHalo as SH, \\\n",
        "            %s_Aperture as AP \\\n",
        "           WHERE \\\n",
        "            SH.SnapNum = 28 and \\\n",
        "            SH.SubGroupNumber = 0 and \\\n",
        "            AP.Mass_Star > 1.0e9 and \\\n",
        "            AP.ApertureSize = 30 and \\\n",
        "            SH.GalaxyID = AP.GalaxyID\"%(sim_name, sim_name)\n",
        "\n",
        "Data_1 = sql.execute_query(con, Query_1)"
      ],
      "metadata": {
        "id": "y47gJDdK1A9O"
      },
      "execution_count": 9,
      "outputs": []
    }
  ]
}