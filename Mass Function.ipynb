{
  "nbformat": 4,
  "nbformat_minor": 0,
  "metadata": {
    "colab": {
      "provenance": [],
      "authorship_tag": "ABX9TyPA1x/kvgXTx6VilQvdb8FN",
      "include_colab_link": true
    },
    "kernelspec": {
      "name": "python3",
      "display_name": "Python 3"
    },
    "language_info": {
      "name": "python"
    }
  },
  "cells": [
    {
      "cell_type": "markdown",
      "metadata": {
        "id": "view-in-github",
        "colab_type": "text"
      },
      "source": [
        "<a href=\"https://colab.research.google.com/github/xvh422/L4-Project/blob/main/Mass%20Function.ipynb\" target=\"_parent\"><img src=\"https://colab.research.google.com/assets/colab-badge.svg\" alt=\"Open In Colab\"/></a>"
      ]
    },
    {
      "cell_type": "code",
      "execution_count": 1,
      "metadata": {
        "colab": {
          "base_uri": "https://localhost:8080/"
        },
        "id": "ctUxSLwPh3VN",
        "outputId": "aaf917de-eb63-4d04-82f9-1dfeae72485b"
      },
      "outputs": [
        {
          "output_type": "stream",
          "name": "stdout",
          "text": [
            "Looking in indexes: https://pypi.org/simple, https://us-python.pkg.dev/colab-wheels/public/simple/\n",
            "Requirement already satisfied: eagleSqlTools in /usr/local/lib/python3.7/dist-packages (2.0.0)\n",
            "Requirement already satisfied: numpy in /usr/local/lib/python3.7/dist-packages (from eagleSqlTools) (1.21.6)\n",
            "Looking in indexes: https://pypi.org/simple, https://us-python.pkg.dev/colab-wheels/public/simple/\n",
            "Requirement already satisfied: colossus in /usr/local/lib/python3.7/dist-packages (1.3.1)\n"
          ]
        }
      ],
      "source": [
        "!pip install eagleSqlTools\n",
        "!pip install colossus"
      ]
    },
    {
      "cell_type": "code",
      "execution_count": 14,
      "metadata": {
        "id": "25348785"
      },
      "outputs": [],
      "source": [
        "import eagleSqlTools as sql\n",
        "import numpy as np\n",
        "import matplotlib.pyplot as plt\n",
        "import matplotlib.colors as col\n",
        "from mpl_toolkits.axes_grid1 import make_axes_locatable\n",
        "from colossus.cosmology import cosmology\n",
        "from colossus.lss import mass_function\n",
        "\n",
        "con = sql.connect(\"vwg533\", password = \"FZtn087h\")"
      ]
    },
    {
      "cell_type": "code",
      "source": [
        "cosmology.setCosmology('WMAP9')\n",
        "# mfunc_fof = mass_function.massFunction(1E12, 0.0, mdef = 'fof', model = 'watson13')"
      ],
      "metadata": {
        "id": "KIQohLR8kvIi",
        "colab": {
          "base_uri": "https://localhost:8080/"
        },
        "outputId": "f70c9c24-86d2-4f15-9989-eb2c957ea451"
      },
      "execution_count": 3,
      "outputs": [
        {
          "output_type": "execute_result",
          "data": {
            "text/plain": [
              "<colossus.cosmology.cosmology.Cosmology at 0x7f1e46a1ff90>"
            ]
          },
          "metadata": {},
          "execution_count": 3
        }
      ]
    },
    {
      "cell_type": "code",
      "source": [
        "powers = np.arange(12.,15.1, 0.1)\n",
        "masses = 10**powers\n",
        "mfunc = []\n",
        "\n",
        "for i in range (len(masses)):\n",
        "  mfunc = mfunc + [mass_function.massFunction(masses[i], 0.0, mdef = 'fof', model = 'watson13')]# mdef = 'vir', model = 'tinker08')]"
      ],
      "metadata": {
        "id": "0P-rFgKRk7D_"
      },
      "execution_count": 4,
      "outputs": []
    },
    {
      "cell_type": "code",
      "source": [
        "sim_name = 'RefL0100N1504'\n",
        "sim_size = 100.\n",
        "bin_width = 0.2\n",
        "\n",
        "Query = \"SELECT \\\n",
        "          0.1+floor(log10(FOF.Group_M_Crit200)/%s)*%s as mass, \\\n",
        "          count(*) as num \\\n",
        "        FROM \\\n",
        "          %s_SubHalo as SH, \\\n",
        "          %s_FOF as FOF \\\n",
        "        WHERE \\\n",
        "          SH.SnapNum = 27 and \\\n",
        "          SH.GroupID = FOF.GroupID and \\\n",
        "          FOF.Group_M_Crit200 > 1e12 \\\n",
        "        GROUP BY \\\n",
        "          0.1+floor(log10(FOF.Group_M_Crit200)/%s)*%s \\\n",
        "        ORDER BY \\\n",
        "          mass\"%(bin_width, bin_width, sim_name, sim_name, bin_width, bin_width)\n",
        "\n",
        "Results = sql.execute_query(con, Query)"
      ],
      "metadata": {
        "id": "sbY1BqdF0IDI"
      },
      "execution_count": 5,
      "outputs": []
    },
    {
      "cell_type": "code",
      "source": [
        "sim_name = 'RefL0100N1504'\n",
        "sim_size = 100.\n",
        "bin_width = 0.2\n",
        "\n",
        "Query = \"SELECT \\\n",
        "          0.1+floor(log10(SH.MassType_DM)/%s)*%s as mass, \\\n",
        "          count(*) as num \\\n",
        "        FROM \\\n",
        "          %s_SubHalo as SH \\\n",
        "        WHERE \\\n",
        "          SH.SnapNum = 27 and \\\n",
        "          SH.MassType_DM > 1e12 \\\n",
        "        GROUP BY \\\n",
        "          0.1+floor(log10(SH.MassType_DM)/%s)*%s \\\n",
        "        ORDER BY \\\n",
        "          mass\"%(bin_width, bin_width, sim_name, bin_width, bin_width)\n",
        "\n",
        "Results = sql.execute_query(con, Query)"
      ],
      "metadata": {
        "id": "7t32_3sJ93fn"
      },
      "execution_count": 15,
      "outputs": []
    },
    {
      "cell_type": "code",
      "source": [
        "sim_name = 'RefL0100N1504'\n",
        "sim_size = 100.\n",
        "bin_width = 0.2\n",
        "\n",
        "Query = \"SELECT \\\n",
        "          0.1+floor(log10(AP.Mass_DM)/%s)*%s as mass, \\\n",
        "          count(*) as num \\\n",
        "        FROM \\\n",
        "          %s_SubHalo as SH, \\\n",
        "          %s_Aperture as AP \\\n",
        "        WHERE \\\n",
        "          SH.GalaxyID = AP.GalaxyID and \\\n",
        "          AP.Mass_DM > 1e12 and \\\n",
        "          SH.SnapNum = 27 \\\n",
        "        GROUP BY \\\n",
        "          0.1+floor(log10(AP.Mass_DM)/%s)*%s \\\n",
        "        ORDER BY \\\n",
        "          mass\"%(bin_width, bin_width, sim_name, sim_name, bin_width, bin_width)\n",
        "\n",
        "Results = sql.execute_query(con, Query)"
      ],
      "metadata": {
        "id": "ncw-7Svb8lL_"
      },
      "execution_count": 18,
      "outputs": []
    },
    {
      "cell_type": "code",
      "source": [
        "hist = Results['num'][:] / float(sim_size)**3.\n",
        "hist = hist / bin_width\n",
        "\n",
        "plt.figure()\n",
        "\n",
        "plt.plot(Results['mass'], np.log10(hist), label='EAGLE')\n",
        "\n",
        "plt.plot(np.log10(masses), np.log10(mfunc), label='Colossus')\n",
        "\n",
        "plt.xlabel(r'log$_{10}$ (M$_{H}$ [M$_{\\odot}$])', fontsize=15)\n",
        "plt.ylabel(r'log$_{10}$ (dn/dlog$_{10}$(M$_{H}$) [cMpc$^{-3}$])', fontsize=15)\n",
        "plt.legend()\n",
        "\n",
        "plt.savefig('Plot_5.jpeg')\n",
        "plt.show()"
      ],
      "metadata": {
        "id": "QQVKoB3iGrJT",
        "outputId": "4f34c36c-6b8a-454c-ba05-40a26d6e42ea",
        "colab": {
          "base_uri": "https://localhost:8080/",
          "height": 294
        }
      },
      "execution_count": 16,
      "outputs": [
        {
          "output_type": "display_data",
          "data": {
            "text/plain": [
              "<Figure size 432x288 with 1 Axes>"
            ],
            "image/png": "[encoded data removed]"
          },
          "metadata": {
            "needs_background": "light"
          }
        }
      ]
    }
  ]
}