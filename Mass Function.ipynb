{
  "nbformat": 4,
  "nbformat_minor": 0,
  "metadata": {
    "colab": {
      "provenance": [],
      "authorship_tag": "ABX9TyPXbrNEtjsnZAimc6biNzQw",
      "include_colab_link": true
    },
    "kernelspec": {
      "name": "python3",
      "display_name": "Python 3"
    },
    "language_info": {
      "name": "python"
    }
  },
  "cells": [
    {
      "cell_type": "markdown",
      "metadata": {
        "id": "view-in-github",
        "colab_type": "text"
      },
      "source": [
        "<a href=\"https://colab.research.google.com/github/xvh422/L4-Project/blob/main/Mass%20Function.ipynb\" target=\"_parent\"><img src=\"https://colab.research.google.com/assets/colab-badge.svg\" alt=\"Open In Colab\"/></a>"
      ]
    },
    {
      "cell_type": "code",
      "execution_count": 1,
      "metadata": {
        "colab": {
          "base_uri": "https://localhost:8080/"
        },
        "id": "ctUxSLwPh3VN",
        "outputId": "6969892e-4d45-4e29-923c-3be4c3a083dc"
      },
      "outputs": [
        {
          "output_type": "stream",
          "name": "stdout",
          "text": [
            "Looking in indexes: https://pypi.org/simple, https://us-python.pkg.dev/colab-wheels/public/simple/\n",
            "Collecting eagleSqlTools\n",
            "  Downloading eagleSqlTools-2.0.0-py3-none-any.whl (16 kB)\n",
            "Requirement already satisfied: numpy in /usr/local/lib/python3.7/dist-packages (from eagleSqlTools) (1.21.6)\n",
            "Installing collected packages: eagleSqlTools\n",
            "Successfully installed eagleSqlTools-2.0.0\n",
            "Looking in indexes: https://pypi.org/simple, https://us-python.pkg.dev/colab-wheels/public/simple/\n",
            "Collecting colossus\n",
            "  Downloading colossus-1.3.1-py2.py3-none-any.whl (197 kB)\n",
            "\u001b[K     |████████████████████████████████| 197 kB 4.6 MB/s \n",
            "\u001b[?25hInstalling collected packages: colossus\n",
            "Successfully installed colossus-1.3.1\n"
          ]
        }
      ],
      "source": [
        "!pip install eagleSqlTools\n",
        "!pip install colossus"
      ]
    },
    {
      "cell_type": "code",
      "execution_count": 2,
      "metadata": {
        "id": "25348785"
      },
      "outputs": [],
      "source": [
        "import eagleSqlTools as sql\n",
        "import numpy as np\n",
        "import matplotlib.pyplot as plt\n",
        "import matplotlib.colors as col\n",
        "from mpl_toolkits.axes_grid1 import make_axes_locatable\n",
        "from colossus.cosmology import cosmology\n",
        "from colossus.lss import mass_function\n",
        "\n",
        "con = sql.connect(\"vwg533\", password = \"FZtn087h\")"
      ]
    },
    {
      "cell_type": "code",
      "source": [
        "cosmology.setCosmology('WMAP9')\n",
        "# mfunc_fof = mass_function.massFunction(1E12, 0.0, mdef = 'fof', model = 'watson13')"
      ],
      "metadata": {
        "id": "KIQohLR8kvIi",
        "colab": {
          "base_uri": "https://localhost:8080/"
        },
        "outputId": "f97463be-264a-4a4e-a96e-98f14e1c963b"
      },
      "execution_count": 3,
      "outputs": [
        {
          "output_type": "execute_result",
          "data": {
            "text/plain": [
              "<colossus.cosmology.cosmology.Cosmology at 0x7fb94dc72bd0>"
            ]
          },
          "metadata": {},
          "execution_count": 3
        }
      ]
    },
    {
      "cell_type": "code",
      "source": [
        "powers = np.arange(8.5,15.1, 0.1)\n",
        "masses = 10**powers\n",
        "mfunc = []\n",
        "\n",
        "for i in range (len(masses)):\n",
        "  mfunc = mfunc + [mass_function.massFunction(masses[i], 0.0, mdef = 'fof', model = 'watson13')]# mdef = 'vir', model = 'tinker08')]\n",
        "\n",
        "plt.figure()\n",
        "\n",
        "plt.plot(np.log10(masses), np.log10(mfunc))\n",
        "\n",
        "plt.show()"
      ],
      "metadata": {
        "colab": {
          "base_uri": "https://localhost:8080/",
          "height": 265
        },
        "id": "0P-rFgKRk7D_",
        "outputId": "3c6f3195-c2ca-4a1b-dbd3-a888c229bd7e"
      },
      "execution_count": 4,
      "outputs": [
        {
          "output_type": "display_data",
          "data": {
            "text/plain": [
              "<Figure size 432x288 with 1 Axes>"
            ],
            "image/png": "[encoded data removed]"
          },
          "metadata": {
            "needs_background": "light"
          }
        }
      ]
    },
    {
      "cell_type": "code",
      "source": [
        "sim_name = 'RefL0100N1504'\n",
        "sim_size = 100.\n",
        "bin_width = 0.2\n",
        "\n",
        "Query = \"SELECT \\\n",
        "          0.1+floor(log10(FOF.Group_M_Crit200)/%s)*%s as mass, \\\n",
        "          count(*) as num \\\n",
        "        FROM \\\n",
        "          %s_SubHalo as SH, \\\n",
        "          %s_FOF as FOF \\\n",
        "        WHERE \\\n",
        "          SH.SnapNum = 27 and \\\n",
        "          SH.GroupID = FOF.GroupID and \\\n",
        "          FOF.Group_M_Crit200 > 1e12 \\\n",
        "        GROUP BY \\\n",
        "          0.1+floor(log10(FOF.Group_M_Crit200)/%s)*%s \\\n",
        "        ORDER BY \\\n",
        "          mass\"%(bin_width, bin_width, sim_name, sim_name, bin_width, bin_width)\n",
        "\n",
        "Results = sql.execute_query(con, Query)"
      ],
      "metadata": {
        "id": "sbY1BqdF0IDI"
      },
      "execution_count": 36,
      "outputs": []
    },
    {
      "cell_type": "code",
      "source": [
        "sim_name = 'RefL0100N1504'\n",
        "sim_size = 100.\n",
        "bin_width = 0.2\n",
        "\n",
        "Query = \"SELECT \\\n",
        "          0.1+floor(log10(SH.MassType_DM)/%s)*%s as mass, \\\n",
        "          count(*) as num \\\n",
        "        FROM \\\n",
        "          %s_SubHalo as SH \\\n",
        "        WHERE \\\n",
        "          SH.SnapNum = 27 and \\\n",
        "          SH.MassType_DM > 1e12 \\\n",
        "        GROUP BY \\\n",
        "          0.1+floor(log10(SH.MassType_DM)/%s)*%s \\\n",
        "        ORDER BY \\\n",
        "          mass\"%(bin_width, bin_width, sim_name, bin_width, bin_width)\n",
        "\n",
        "Results = sql.execute_query(con, Query)"
      ],
      "metadata": {
        "id": "7t32_3sJ93fn"
      },
      "execution_count": 15,
      "outputs": []
    },
    {
      "cell_type": "code",
      "source": [
        "sim_name = 'RefL0100N1504'\n",
        "sim_size = 100.\n",
        "bin_width = 0.2\n",
        "\n",
        "Query = \"SELECT \\\n",
        "          0.1+floor(log10(AP.Mass_DM)/%s)*%s as mass, \\\n",
        "          count(*) as num \\\n",
        "        FROM \\\n",
        "          %s_SubHalo as SH, \\\n",
        "          %s_Aperture as AP \\\n",
        "        WHERE \\\n",
        "          SH.GalaxyID = AP.GalaxyID and \\\n",
        "          AP.Mass_DM > 1e12 and \\\n",
        "          SH.SnapNum = 27 \\\n",
        "        GROUP BY \\\n",
        "          0.1+floor(log10(AP.Mass_DM)/%s)*%s \\\n",
        "        ORDER BY \\\n",
        "          mass\"%(bin_width, bin_width, sim_name, sim_name, bin_width, bin_width)\n",
        "\n",
        "Results = sql.execute_query(con, Query)"
      ],
      "metadata": {
        "id": "ncw-7Svb8lL_"
      },
      "execution_count": 19,
      "outputs": []
    },
    {
      "cell_type": "code",
      "source": [
        "hist = Results['num'][:] / float(sim_size)**3.\n",
        "hist = hist / bin_width\n",
        "\n",
        "plt.figure()\n",
        "\n",
        "plt.plot(Results['mass'], np.log10(hist))\n",
        "\n",
        "plt.xlabel(r'log$_{10}$ (M$_{H}$ [M$_{\\odot}$])', fontsize=15)\n",
        "plt.ylabel(r'log$_{10}$ (dn/dlog$_{10}$(M$_{H}$) [cMpc$^{-3}$])', fontsize=15)\n",
        "\n",
        "plt.show()"
      ],
      "metadata": {
        "id": "QQVKoB3iGrJT",
        "outputId": "ef2be101-d047-47d5-ce67-f46e1958467a",
        "colab": {
          "base_uri": "https://localhost:8080/",
          "height": 294
        }
      },
      "execution_count": 37,
      "outputs": [
        {
          "output_type": "display_data",
          "data": {
            "text/plain": [
              "<Figure size 432x288 with 1 Axes>"
            ],
            "image/png": "[encoded data removed]"
          },
          "metadata": {
            "needs_background": "light"
          }
        }
      ]
    }
  ]
}