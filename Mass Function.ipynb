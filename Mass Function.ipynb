{
  "nbformat": 4,
  "nbformat_minor": 0,
  "metadata": {
    "colab": {
      "provenance": [],
      "authorship_tag": "ABX9TyOCogoCnhtscrXzASDlP3Yf",
      "include_colab_link": true
    },
    "kernelspec": {
      "name": "python3",
      "display_name": "Python 3"
    },
    "language_info": {
      "name": "python"
    }
  },
  "cells": [
    {
      "cell_type": "markdown",
      "metadata": {
        "id": "view-in-github",
        "colab_type": "text"
      },
      "source": [
        "<a href=\"https://colab.research.google.com/github/xvh422/L4-Project/blob/main/Mass%20Function.ipynb\" target=\"_parent\"><img src=\"https://colab.research.google.com/assets/colab-badge.svg\" alt=\"Open In Colab\"/></a>"
      ]
    },
    {
      "cell_type": "code",
      "execution_count": 1,
      "metadata": {
        "colab": {
          "base_uri": "https://localhost:8080/"
        },
        "id": "ctUxSLwPh3VN",
        "outputId": "d2453bfb-1a44-4713-abc1-dd332a5613ae"
      },
      "outputs": [
        {
          "output_type": "stream",
          "name": "stdout",
          "text": [
            "Looking in indexes: https://pypi.org/simple, https://us-python.pkg.dev/colab-wheels/public/simple/\n",
            "Collecting eagleSqlTools\n",
            "  Downloading eagleSqlTools-2.0.0-py3-none-any.whl (16 kB)\n",
            "Requirement already satisfied: numpy in /usr/local/lib/python3.7/dist-packages (from eagleSqlTools) (1.21.6)\n",
            "Installing collected packages: eagleSqlTools\n",
            "Successfully installed eagleSqlTools-2.0.0\n",
            "Looking in indexes: https://pypi.org/simple, https://us-python.pkg.dev/colab-wheels/public/simple/\n",
            "Collecting colossus\n",
            "  Downloading colossus-1.3.1-py2.py3-none-any.whl (197 kB)\n",
            "\u001b[K     |████████████████████████████████| 197 kB 7.5 MB/s \n",
            "\u001b[?25hInstalling collected packages: colossus\n",
            "Successfully installed colossus-1.3.1\n"
          ]
        }
      ],
      "source": [
        "!pip install eagleSqlTools\n",
        "!pip install colossus"
      ]
    },
    {
      "cell_type": "code",
      "execution_count": 2,
      "metadata": {
        "id": "25348785"
      },
      "outputs": [],
      "source": [
        "import eagleSqlTools as sql\n",
        "import numpy as np\n",
        "import matplotlib.pyplot as plt\n",
        "import matplotlib.colors as col\n",
        "from mpl_toolkits.axes_grid1 import make_axes_locatable\n",
        "from colossus.cosmology import cosmology\n",
        "from colossus.lss import mass_function\n",
        "\n",
        "con = sql.connect(\"vwg533\", password = \"FZtn087h\")"
      ]
    },
    {
      "cell_type": "code",
      "source": [
        "cosmology.setCosmology('WMAP9')\n",
        "# mfunc_fof = mass_function.massFunction(1E12, 0.0, mdef = 'fof', model = 'watson13')"
      ],
      "metadata": {
        "id": "KIQohLR8kvIi",
        "outputId": "0033b9f3-9e59-4a3d-f9c8-e3f421f1f21a",
        "colab": {
          "base_uri": "https://localhost:8080/"
        }
      },
      "execution_count": 5,
      "outputs": [
        {
          "output_type": "execute_result",
          "data": {
            "text/plain": [
              "<colossus.cosmology.cosmology.Cosmology at 0x7fafc52f0890>"
            ]
          },
          "metadata": {},
          "execution_count": 5
        }
      ]
    },
    {
      "cell_type": "code",
      "source": [
        "powers = np.arange(12,15.1, 0.1)\n",
        "masses = 10**powers\n",
        "mfunc = []\n",
        "\n",
        "for i in range (len(masses)):\n",
        "  mfunc = mfunc + [mass_function.massFunction(masses[i], 0.0, mdef = 'fof', model = 'watson13')]# mdef = 'vir', model = 'tinker08')]\n",
        "\n",
        "plt.figure()\n",
        "\n",
        "plt.plot(np.log10(masses), np.log10(mfunc))\n",
        "\n",
        "plt.show()"
      ],
      "metadata": {
        "colab": {
          "base_uri": "https://localhost:8080/",
          "height": 265
        },
        "id": "0P-rFgKRk7D_",
        "outputId": "550434f3-c970-47e3-cb58-35b52a7bd18d"
      },
      "execution_count": 40,
      "outputs": [
        {
          "output_type": "display_data",
          "data": {
            "text/plain": [
              "<Figure size 432x288 with 1 Axes>"
            ],
            "image/png": "[encoded data removed]"
          },
          "metadata": {
            "needs_background": "light"
          }
        }
      ]
    },
    {
      "cell_type": "code",
      "source": [
        "sim_name = 'RefL0100N1504'\n",
        "sim_size = 100.\n",
        "\n",
        "Query = \"SELECT \\\n",
        "          FOF.Group_M_Crit200 as m200, \\\n",
        "          SH.MassType_Star as star \\\n",
        "        FROM \\\n",
        "          %s_FOF as FOF, \\\n",
        "          %s_SubHalo as SH \\\n",
        "        WHERE \\\n",
        "          SH.SnapNum = 28 and \\\n",
        "          SH.SubGroupNumber = 0 and \\\n",
        "          SH.MassType_Star > 0 and \\\n",
        "          FOF.Group_M_Crit200 > 1e12 and \\\n",
        "          SH.GroupID = FOF.GroupID\" %(sim_name, sim_name)\n",
        "\n",
        "Results = sql.execute_query(con, Query)"
      ],
      "metadata": {
        "id": "sbY1BqdF0IDI"
      },
      "execution_count": 16,
      "outputs": []
    },
    {
      "cell_type": "code",
      "source": [
        "#Replaces zeroes with the smallest nonzero value.\n",
        "def log_with_zeros(data):\n",
        "  logs = np.empty(len(data))\n",
        "  for i in range(0, len(data)):\n",
        "    if data[i] == 0.0:\n",
        "      logs[i] = 99.\n",
        "    else:\n",
        "      logs[i] = np.log10(data[i])\n",
        "  m = logs.min()\n",
        "  for j in range(0, len(logs)):\n",
        "    if logs[j] == 99.:\n",
        "      logs[j] = m\n",
        "    else:\n",
        "      logs[j] = logs[j]\n",
        "  return logs"
      ],
      "metadata": {
        "id": "x7qNdChC7Z_Y"
      },
      "execution_count": 34,
      "outputs": []
    },
    {
      "cell_type": "code",
      "source": [
        "log_mh = np.log10(Results['m200'])\n",
        "binned_masses = {}\n",
        "\n",
        "step = 0.1\n",
        "bins = np.arange(12, 15.1, step)\n",
        "\n",
        "for bin in bins:\n",
        "  masses = log_mh[np.logical_and(log_mh > bin, log_mh < bin+step)]\n",
        "  binned_masses[bin] = masses"
      ],
      "metadata": {
        "id": "pBnhglDM3Zri"
      },
      "execution_count": 35,
      "outputs": []
    },
    {
      "cell_type": "code",
      "source": [
        "sim_volume = sim_size**3\n",
        "galaxy_counts = np.empty(len(bins))\n",
        "\n",
        "for i in range(len(bins)):\n",
        "  galaxy_counts[i] = len(binned_masses[bins[i]])\n",
        "\n",
        "galaxy_densities = galaxy_counts/sim_volume"
      ],
      "metadata": {
        "id": "zKFB29cT7XIA"
      },
      "execution_count": 36,
      "outputs": []
    },
    {
      "cell_type": "code",
      "source": [
        "fig, (ax1, ax2) = plt.subplots(1, 2, figsize = (20,10))\n",
        "\n",
        "ax1.plot(bins, log_with_zeros(galaxy_densities))\n",
        "ax2.hist(np.log10(Results['m200']), bins = 50, log=True, density=True)\n",
        "\n",
        "plt.show()"
      ],
      "metadata": {
        "id": "ACtmhKlb9RnJ",
        "outputId": "a32142be-9f40-4b29-cc31-603fd50a2083",
        "colab": {
          "base_uri": "https://localhost:8080/",
          "height": 592
        }
      },
      "execution_count": 39,
      "outputs": [
        {
          "output_type": "display_data",
          "data": {
            "text/plain": [
              "<Figure size 1440x720 with 2 Axes>"
            ],
            "image/png": "[encoded data removed]"
          },
          "metadata": {
            "needs_background": "light"
          }
        }
      ]
    }
  ]
}