{
  "nbformat": 4,
  "nbformat_minor": 0,
  "metadata": {
    "colab": {
      "provenance": [],
      "authorship_tag": "ABX9TyMJWC//m7trk9IVr5hKzJ1Y",
      "include_colab_link": true
    },
    "kernelspec": {
      "name": "python3",
      "display_name": "Python 3"
    },
    "language_info": {
      "name": "python"
    }
  },
  "cells": [
    {
      "cell_type": "markdown",
      "metadata": {
        "id": "view-in-github",
        "colab_type": "text"
      },
      "source": [
        "<a href=\"https://colab.research.google.com/github/xvh422/L4-Project/blob/main/Tests.ipynb\" target=\"_parent\"><img src=\"https://colab.research.google.com/assets/colab-badge.svg\" alt=\"Open In Colab\"/></a>"
      ]
    },
    {
      "cell_type": "code",
      "execution_count": 1,
      "metadata": {
        "colab": {
          "base_uri": "https://localhost:8080/"
        },
        "id": "ctUxSLwPh3VN",
        "outputId": "f57e0923-dffb-4a92-8431-f1caabda5f51"
      },
      "outputs": [
        {
          "output_type": "stream",
          "name": "stdout",
          "text": [
            "Looking in indexes: https://pypi.org/simple, https://us-python.pkg.dev/colab-wheels/public/simple/\n",
            "Collecting eagleSqlTools\n",
            "  Downloading eagleSqlTools-2.0.0-py3-none-any.whl (16 kB)\n",
            "Requirement already satisfied: numpy in /usr/local/lib/python3.7/dist-packages (from eagleSqlTools) (1.21.6)\n",
            "Installing collected packages: eagleSqlTools\n",
            "Successfully installed eagleSqlTools-2.0.0\n"
          ]
        }
      ],
      "source": [
        "!pip install eagleSqlTools"
      ]
    },
    {
      "cell_type": "code",
      "execution_count": 2,
      "metadata": {
        "id": "25348785"
      },
      "outputs": [],
      "source": [
        "import eagleSqlTools as sql\n",
        "import numpy as np\n",
        "import matplotlib.pyplot as plt\n",
        "import matplotlib.colors as col\n",
        "from mpl_toolkits.axes_grid1 import make_axes_locatable\n",
        "from matplotlib import gridspec\n",
        "\n",
        "con = sql.connect(\"vwg533\", password = \"FZtn087h\")"
      ]
    },
    {
      "cell_type": "code",
      "execution_count": 81,
      "metadata": {
        "id": "DRyCTkC4bjij"
      },
      "outputs": [],
      "source": [
        "sim_name = 'RefL0100N1504'\n",
        "sim_size = 100.\n",
        "\n",
        "Query_IDs = \"SELECT \\\n",
        "              SH.GalaxyID as id \\\n",
        "            FROM \\\n",
        "              %s_SubHalo as SH, \\\n",
        "              %s_Aperture as AP \\\n",
        "            WHERE \\\n",
        "              SH.SnapNum = 14 and \\\n",
        "              SH.SubGroupNumber = 0 and \\\n",
        "              AP.Mass_Star > 1.0e9 and \\\n",
        "              SH.MassType_BH > 2.5e8 and \\\n",
        "              AP.ApertureSize = 30 and \\\n",
        "              SH.GalaxyID = AP.GalaxyID\"%(sim_name, sim_name)\n",
        "\n",
        "Data_IDs = sql.execute_query(con, Query_IDs)"
      ]
    },
    {
      "cell_type": "code",
      "source": [
        "print(len(Data_IDs['id']))"
      ],
      "metadata": {
        "id": "DE2oQGQnXiLA",
        "outputId": "444c40ed-d52c-4455-c0e6-aeff369d234b",
        "colab": {
          "base_uri": "https://localhost:8080/"
        }
      },
      "execution_count": 82,
      "outputs": [
        {
          "output_type": "stream",
          "name": "stdout",
          "text": [
            "43\n"
          ]
        }
      ]
    },
    {
      "cell_type": "code",
      "execution_count": 83,
      "metadata": {
        "id": "HqlOlo01AjdC"
      },
      "outputs": [],
      "source": [
        "sim_name = 'RefL0100N1504'\n",
        "sim_size = 100.\n",
        "# [21573586, 21379523, 21730540, 13259036, 21109774] For snapnums 28, 26, 23, 19, 14 ==> z = 0, 2.29, 5.19, 7.93, 10.86\n",
        "galaxy_ids = Data_IDs['id']\n",
        "zs = []\n",
        "bhs = []\n",
        "\n",
        "for i in range(len(galaxy_ids)):\n",
        "  Query = \"SELECT \\\n",
        "              gal.Redshift as z, \\\n",
        "              gal.MassType_BH as bh \\\n",
        "            FROM \\\n",
        "              %s_Subhalo as gal, \\\n",
        "              %s_Subhalo as ref \\\n",
        "            WHERE \\\n",
        "              ref.GalaxyID=%s and \\\n",
        "              ((gal.SnapNum > ref.SnapNum and ref.GalaxyID \\\n",
        "              between gal.GalaxyID and gal.TopLeafID) or \\\n",
        "              (gal.SnapNum <= ref.SnapNum and gal.GalaxyID \\\n",
        "              between ref.GalaxyID and ref.TopLeafID)) \\\n",
        "            ORDER BY \\\n",
        "              gal.Redshift\"%(sim_name, sim_name, galaxy_ids[i])\n",
        "\n",
        "  Data = sql.execute_query(con, Query)\n",
        "  zs.append(Data['z'])\n",
        "  bhs.append(Data['bh'])"
      ]
    },
    {
      "cell_type": "code",
      "source": [
        "for i in range(len(zs)):\n",
        "  print(len(zs[0]))"
      ],
      "metadata": {
        "id": "9vqMAVUc2G0W"
      },
      "execution_count": null,
      "outputs": []
    },
    {
      "cell_type": "code",
      "source": [
        "plt.figure()\n",
        "\n",
        "for i in range(len(bhs)):\n",
        "  plt.plot(zs[i], bhs[i])\n",
        "\n",
        "plt.xlim(0,5)\n",
        "#plt.ylim(1e10, 1.25e10)\n",
        "plt.show()"
      ],
      "metadata": {
        "id": "keoyk-vRX8Rn",
        "outputId": "39fc578c-c553-4d63-d79c-4fd9dea1358b",
        "colab": {
          "base_uri": "https://localhost:8080/",
          "height": 276
        }
      },
      "execution_count": 84,
      "outputs": [
        {
          "output_type": "display_data",
          "data": {
            "text/plain": [
              "<Figure size 432x288 with 1 Axes>"
            ],
            "image/png": "[encoded data removed]"
          },
          "metadata": {
            "needs_background": "light"
          }
        }
      ]
    },
    {
      "cell_type": "code",
      "source": [
        "for i in range(len(bhs)):\n",
        "  print(galaxy_ids[i])\n",
        "  print(bhs[i][0]/1e10)\n",
        "  print('')"
      ],
      "metadata": {
        "id": "aqBR2590aJtq",
        "outputId": "d9a9fc78-61e1-4823-b42a-06ad978279bb",
        "colab": {
          "base_uri": "https://localhost:8080/"
        }
      },
      "execution_count": 86,
      "outputs": [
        {
          "output_type": "stream",
          "name": "stdout",
          "text": [
            "15274019\n",
            "0.0284940512\n",
            "\n",
            "19556677\n",
            "0.0957732928\n",
            "\n",
            "14593767\n",
            "0.0719777152\n",
            "\n",
            "22005747\n",
            "0.0417719552\n",
            "\n",
            "19215061\n",
            "0.348190848\n",
            "\n",
            "9578518\n",
            "0.0731523776\n",
            "\n",
            "21436445\n",
            "0.041779056\n",
            "\n",
            "21483442\n",
            "0.0577417472\n",
            "\n",
            "21379535\n",
            "1.8822572032\n",
            "\n",
            "21730549\n",
            "1.1993590784\n",
            "\n",
            "20595205\n",
            "0.0454233472\n",
            "\n",
            "20640575\n",
            "0.0959005568\n",
            "\n",
            "21109774\n",
            "1.3545626624\n",
            "\n",
            "18645000\n",
            "0.3138561536\n",
            "\n",
            "18680989\n",
            "0.3076321536\n",
            "\n",
            "15751392\n",
            "0.1044872448\n",
            "\n",
            "19076580\n",
            "0.2079582464\n",
            "\n",
            "19104586\n",
            "0.1105098112\n",
            "\n",
            "14407374\n",
            "0.0696435392\n",
            "\n",
            "18781603\n",
            "0.178388416\n",
            "\n",
            "15457933\n",
            "0.0438828256\n",
            "\n",
            "19669892\n",
            "0.02977856\n",
            "\n",
            "20877630\n",
            "0.0480568032\n",
            "\n",
            "20943546\n",
            "0.3756393472\n",
            "\n",
            "16807951\n",
            "0.0499983104\n",
            "\n",
            "20532208\n",
            "0.3835138048\n",
            "\n",
            "18292466\n",
            "0.0543218944\n",
            "\n",
            "18816278\n",
            "0.2593699584\n",
            "\n",
            "18893267\n",
            "0.3042075136\n",
            "\n",
            "19419636\n",
            "0.1912064384\n",
            "\n",
            "20967937\n",
            "0.055934112\n",
            "\n",
            "21059576\n",
            "0.419326464\n",
            "\n",
            "20324230\n",
            "0.1191752064\n",
            "\n",
            "19908047\n",
            "0.043472352\n",
            "\n",
            "19402369\n",
            "0.1487117952\n",
            "\n",
            "14916093\n",
            "0.1368790016\n",
            "\n",
            "14935254\n",
            "0.000362526725\n",
            "\n",
            "18481128\n",
            "0.3714686208\n",
            "\n",
            "18544442\n",
            "0.2891602432\n",
            "\n",
            "21834537\n",
            "0.12650496\n",
            "\n",
            "20099639\n",
            "0.4900768256\n",
            "\n",
            "18927216\n",
            "0.173726144\n",
            "\n",
            "18961520\n",
            "0.1867010304\n",
            "\n"
          ]
        }
      ]
    }
  ]
}